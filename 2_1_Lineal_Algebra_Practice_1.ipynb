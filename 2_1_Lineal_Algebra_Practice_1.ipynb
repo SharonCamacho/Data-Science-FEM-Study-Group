{
  "nbformat": 4,
  "nbformat_minor": 0,
  "metadata": {
    "colab": {
      "name": "2.1. Lineal Algebra Practice 1.ipynb",
      "provenance": [],
      "include_colab_link": true
    },
    "kernelspec": {
      "name": "python3",
      "display_name": "Python 3"
    }
  },
  "cells": [
    {
      "cell_type": "markdown",
      "metadata": {
        "id": "view-in-github",
        "colab_type": "text"
      },
      "source": [
        "<a href=\"https://colab.research.google.com/github/SharonCamacho/Data-Science-FEM-Study-Group/blob/master/2_1_Lineal_Algebra_Practice_1.ipynb\" target=\"_parent\"><img src=\"https://colab.research.google.com/assets/colab-badge.svg\" alt=\"Open In Colab\"/></a>"
      ]
    },
    {
      "cell_type": "markdown",
      "metadata": {
        "id": "U6TIPyxgxgwK",
        "colab_type": "text"
      },
      "source": [
        "Taller tomado de @alvarezmeneses\n",
        "\n",
        "https://github.com/salvarezmeneses/DataScience2020/blob/master/2_1_Lineal_Algebra_Practice_1.ipynb\n"
      ]
    },
    {
      "cell_type": "code",
      "metadata": {
        "id": "4lyStEh9vJAE",
        "colab_type": "code",
        "colab": {}
      },
      "source": [
        "import numpy as np"
      ],
      "execution_count": 0,
      "outputs": []
    },
    {
      "cell_type": "markdown",
      "metadata": {
        "id": "i2NEFcja852e",
        "colab_type": "text"
      },
      "source": [
        "# Question 1.\n",
        "\n",
        "* Print the sum of matrixes A and B\n",
        "\n",
        "$$ A =\n",
        "\\left(\\begin{array}{cc} \n",
        "1 & 2\\\\\n",
        "3 & 4\\\\\n",
        "5 & 6\n",
        "\\end{array}\\right) + B =\n",
        "\\left(\\begin{array}{cc} \n",
        "6 & 5\\\\\n",
        "4 & 3\\\\\n",
        "2 & 1 \n",
        "\\end{array}\\right)\n",
        "$$ "
      ]
    },
    {
      "cell_type": "code",
      "metadata": {
        "id": "jDuBCQ2LQa6L",
        "colab_type": "code",
        "colab": {
          "base_uri": "https://localhost:8080/",
          "height": 68
        },
        "outputId": "97f09e85-0b32-44e5-90d3-51077cc37bbb"
      },
      "source": [
        "# Answer 1.\n",
        "'Your code here'\n",
        "a=np.array([[1,2],[3,4],[5,6]])\n",
        "b=np.array([[6,5],[4,3],[2,1]])\n",
        "print(a+b)"
      ],
      "execution_count": 2,
      "outputs": [
        {
          "output_type": "stream",
          "text": [
            "[[7 7]\n",
            " [7 7]\n",
            " [7 7]]\n"
          ],
          "name": "stdout"
        }
      ]
    },
    {
      "cell_type": "markdown",
      "metadata": {
        "id": "f_ysniFVMQ1F",
        "colab_type": "text"
      },
      "source": [
        "# Question 2\n",
        "\n",
        "* Print the sum of matrix + scalar.\n",
        "\n",
        "$$ M =\n",
        "\\left(\\begin{array}{cc} \n",
        "6 & 3\\\\\n",
        "9 & 5\\\\\n",
        "4 & 8\n",
        "\\end{array}\\right) + N =\n",
        "\\left(\\begin{array}{cc} \n",
        "2.5 \\\\ \n",
        "\\end{array}\\right)\n",
        "$$ "
      ]
    },
    {
      "cell_type": "code",
      "metadata": {
        "id": "2_-3UKlcmlwz",
        "colab_type": "code",
        "colab": {
          "base_uri": "https://localhost:8080/",
          "height": 68
        },
        "outputId": "f064c547-5b62-4190-da17-86368adfd938"
      },
      "source": [
        "# Answer 2.\n",
        "'Your code here'\n",
        "m=np.array([[6,3],[9,5],[4,8]])\n",
        "n=2.5\n",
        "print(m+n)"
      ],
      "execution_count": 3,
      "outputs": [
        {
          "output_type": "stream",
          "text": [
            "[[ 8.5  5.5]\n",
            " [11.5  7.5]\n",
            " [ 6.5 10.5]]\n"
          ],
          "name": "stdout"
        }
      ]
    },
    {
      "cell_type": "markdown",
      "metadata": {
        "id": "tX6URHxjJgzm",
        "colab_type": "text"
      },
      "source": [
        "# Question 3.\n",
        "\n",
        "* Print the transposed matrix of  $J$  -->  $J^t$. \n",
        "\n",
        "$$ J =\n",
        "\\left(\\begin{array}{cc} \n",
        "9 & 2 & 3\\\\\n",
        "3 & 7 & 4 \\\\\n",
        "5 & 6 & 9\n",
        "\\end{array}\\right) \n",
        "$$ "
      ]
    },
    {
      "cell_type": "code",
      "metadata": {
        "id": "Y3fS1dHzSmic",
        "colab_type": "code",
        "colab": {
          "base_uri": "https://localhost:8080/",
          "height": 68
        },
        "outputId": "735cc93e-5b18-44d5-9286-b56cda9a0144"
      },
      "source": [
        "# Answer 3.\n",
        "'Your code here'\n",
        "j=np.array([[9,2,3],[3,7,4],[5,6,9]])\n",
        "jt=j.T\n",
        "print(jt)"
      ],
      "execution_count": 4,
      "outputs": [
        {
          "output_type": "stream",
          "text": [
            "[[9 3 5]\n",
            " [2 7 6]\n",
            " [3 4 9]]\n"
          ],
          "name": "stdout"
        }
      ]
    },
    {
      "cell_type": "markdown",
      "metadata": {
        "id": "sx1edpUHLNgH",
        "colab_type": "text"
      },
      "source": [
        "# Question 4.\n",
        "\n",
        "* For the $ J ^ t $ matrix, calculate your transpose to obtain the original matrix J. \n",
        "\n",
        "$$ J =\n",
        "\\left(\\begin{array}{cc} \n",
        "9 & 2 & 3\\\\\n",
        "3 & 7 & 4 \\\\\n",
        "5 & 6 & 9\n",
        "\\end{array}\\right) \n",
        "$$ "
      ]
    },
    {
      "cell_type": "code",
      "metadata": {
        "id": "ku0zlNNO80hf",
        "colab_type": "code",
        "colab": {
          "base_uri": "https://localhost:8080/",
          "height": 68
        },
        "outputId": "1e354a77-cd6c-4537-967e-5f68e9d29979"
      },
      "source": [
        "# Answer 4.\n",
        "'Your code here'\n",
        "print(jt.T)"
      ],
      "execution_count": 5,
      "outputs": [
        {
          "output_type": "stream",
          "text": [
            "[[9 2 3]\n",
            " [3 7 4]\n",
            " [5 6 9]]\n"
          ],
          "name": "stdout"
        }
      ]
    },
    {
      "cell_type": "markdown",
      "metadata": {
        "id": "qQ5b5m6HKp_u",
        "colab_type": "text"
      },
      "source": [
        "# Question 5.\n",
        "\n",
        "* \n",
        "What are the missing values? \n",
        "\n",
        "$$\n",
        "\\left(\\begin{array}{cc} \n",
        "? & 2\\\\\n",
        "0 & 2\n",
        "\\end{array}\\right)\n",
        "\\left(\\begin{array}{cc} \n",
        "1 & 0 \\\\ \n",
        "1 & ? \n",
        "\\end{array}\\right)\n",
        "$$ \n",
        "\n",
        " * so that the answer is like this:\n",
        "$\n",
        "\\left(\n",
        " \\begin {array}{ll} \n",
        "1 & 0 \\\\\n",
        "0   & 0\n",
        "\\end{array}\n",
        "\\right)\n",
        "$\n",
        "\n",
        "- [ A ] = 1 y 1\n",
        "- [ B ] = 0 y 1\n",
        "- [ C ] = 1 y 0\n",
        "- [ D ] = 0 y 0\n",
        "\n",
        "*  Print the result and the answer."
      ]
    },
    {
      "cell_type": "code",
      "metadata": {
        "id": "mB1C6fZiK5Ws",
        "colab_type": "code",
        "outputId": "d97ff957-1b3e-4a27-fdff-1b30e8fecfa0",
        "colab": {
          "base_uri": "https://localhost:8080/",
          "height": 68
        }
      },
      "source": [
        "# Answer 5.\n",
        "'your code here'\n",
        "# creacion de matrices \n",
        "A = np.array([[1,2],[0,2]])\n",
        "d = np.array([[1,0],[1,0]])\n",
        "\n",
        "# calculo de producto entre matrices\n",
        "C = A * d\n",
        "# imprimir la respuesta\n",
        "print('la respuesgta es la C:',\"\\n\", C)"
      ],
      "execution_count": 6,
      "outputs": [
        {
          "output_type": "stream",
          "text": [
            "la respuesgta es la C: \n",
            " [[1 0]\n",
            " [0 0]]\n"
          ],
          "name": "stdout"
        }
      ]
    },
    {
      "cell_type": "markdown",
      "metadata": {
        "id": "XRllz0RrGW-m",
        "colab_type": "text"
      },
      "source": [
        "# Question 6.\n",
        "* ¿ What is the dot product matrixes  $L$ y $K$ = : ?\n",
        "\n",
        "$$ L =\n",
        "\\left(\\begin{array}{cc} \n",
        "3 & 5 \\\\\n",
        "7 & 1 \\\\\n",
        "\\end{array}\\right) K =\n",
        "\\left(\\begin{array}{cc} \n",
        "3 & 12  \\\\\n",
        "6 & 4  \\\\\n",
        "\\end{array}\\right)\n",
        "$$ "
      ]
    },
    {
      "cell_type": "code",
      "metadata": {
        "id": "NZ7tLNk2vW73",
        "colab_type": "code",
        "colab": {
          "base_uri": "https://localhost:8080/",
          "height": 51
        },
        "outputId": "5bf0d6f2-76ac-439c-9007-75cc0653f2b3"
      },
      "source": [
        "# Answer 6.\n",
        "'your code here'\n",
        "L=np.array([[3,5],[7,1]])\n",
        "K=np.array([[3,12],[6,4]])\n",
        "print(L.dot(K))"
      ],
      "execution_count": 7,
      "outputs": [
        {
          "output_type": "stream",
          "text": [
            "[[39 56]\n",
            " [27 88]]\n"
          ],
          "name": "stdout"
        }
      ]
    },
    {
      "cell_type": "markdown",
      "metadata": {
        "id": "qyuXefxfXs8h",
        "colab_type": "text"
      },
      "source": [
        "# Question 7.\n",
        "\n",
        "* ¿ What is the determinant of the following matrix  ? (Print the answer)\n",
        "\n",
        "$\n",
        "\\left(\n",
        "\\begin {array}{ll} \n",
        "1 & 2 & 0 \\\\\n",
        "1 & 2 & 0 \\\\\n",
        "0 & 1 & 1 \\\\\n",
        "\\end{array}\n",
        "\\right)\n",
        "$\n",
        "\n",
        "- [ A ] = 1 \n",
        "- [ B ] = 0 \n",
        "- [ C ] = 5\n",
        "- [ D ] = -5\n",
        "\n"
      ]
    },
    {
      "cell_type": "code",
      "metadata": {
        "id": "_Za_87JV0Fxa",
        "colab_type": "code",
        "colab": {
          "base_uri": "https://localhost:8080/",
          "height": 34
        },
        "outputId": "9393f205-1698-4cea-a53b-f30540dfd298"
      },
      "source": [
        "# Answer 7.\n",
        "'your code here'\n",
        "D = np.array([[1,2,0],[1,2,0], [0,1,1] ])\n",
        "\n",
        "determinant = np.linalg.det(D)\n",
        "\n",
        "print('la respuesgta es la B:', determinant)"
      ],
      "execution_count": 8,
      "outputs": [
        {
          "output_type": "stream",
          "text": [
            "la respuesgta es la B: 0.0\n"
          ],
          "name": "stdout"
        }
      ]
    },
    {
      "cell_type": "markdown",
      "metadata": {
        "id": "YsULSkG8wME_",
        "colab_type": "text"
      },
      "source": [
        "# Question 8.\n",
        "\n",
        "* ¿ What is the determinant of the following matrix ? (Print the answer)\n",
        "\n",
        "$\n",
        "\\left(\n",
        "\\begin {array}{ll} \n",
        "0 & 1 & 1 \\\\\n",
        "1 & 0 & 0 \\\\\n",
        "0 & 0 & 1 \\\\\n",
        "\\end{array}\n",
        "\\right)\n",
        "$\n",
        "\n",
        "- [ A ] = 0 \n",
        "- [ B ] = -1 \n",
        "- [ C ] = 3\n",
        "- [ D ] = 1\n"
      ]
    },
    {
      "cell_type": "code",
      "metadata": {
        "id": "WQhgsnY4v_hQ",
        "colab_type": "code",
        "colab": {
          "base_uri": "https://localhost:8080/",
          "height": 34
        },
        "outputId": "2f78b188-5c38-468b-8ca0-32c652a9c302"
      },
      "source": [
        "# Answer 8.\n",
        "'your code here'\n",
        "F = np.array([[0,1,1],[1,0,0], [0,0,1] ])\n",
        "\n",
        "determinant_2 = np.linalg.det(F)\n",
        "\n",
        "print('la respuesgta es la B:', determinant_2)"
      ],
      "execution_count": 10,
      "outputs": [
        {
          "output_type": "stream",
          "text": [
            "la respuesgta es la B: -1.0\n"
          ],
          "name": "stdout"
        }
      ]
    },
    {
      "cell_type": "markdown",
      "metadata": {
        "id": "0Z1mnDXzLJg_",
        "colab_type": "text"
      },
      "source": [
        "# Question 9\n",
        "\n",
        "* ¿What is the missing value?\n",
        "$$ \n",
        "\\left(\\begin{array}{cc} \n",
        "1 & 2 & 3\\\\\n",
        "4 & 5 & 6\\\\\n",
        "7 & 8 & 9\n",
        "\\end{array}\\right) \n",
        "\\left(\\begin{array}{cc} \n",
        "0 \\\\ \n",
        "? \\\\\n",
        "0 \\\\\n",
        "\\end{array}\\right) =\n",
        "\\left(\\begin{array}{cc} \n",
        "4 \\\\ \n",
        "10 \\\\\n",
        "16 \\\\\n",
        "\\end{array}\\right)\n",
        "$$ "
      ]
    },
    {
      "cell_type": "code",
      "metadata": {
        "id": "n7Wx1hRwLHyX",
        "colab_type": "code",
        "colab": {
          "base_uri": "https://localhost:8080/",
          "height": 85
        },
        "outputId": "dac8823f-738e-47a3-dd3e-ac9c60f86830"
      },
      "source": [
        "# creacion de matrices \n",
        "m_1 = np.array([[1,2,3],[4,5,6],[7,8,9]])\n",
        "m_2 = np.array([0,2,0])\n",
        "\n",
        "# calculo de producto entre matrices\n",
        "resultante = m_1 * m_2\n",
        "# imprimir la respuesta\n",
        "print('El valor Faltantes es 2:',\"\\n\", resultante)"
      ],
      "execution_count": 17,
      "outputs": [
        {
          "output_type": "stream",
          "text": [
            "El valor Faltantes es 2: \n",
            " [[ 0  4  0]\n",
            " [ 0 10  0]\n",
            " [ 0 16  0]]\n"
          ],
          "name": "stdout"
        }
      ]
    }
  ]
}