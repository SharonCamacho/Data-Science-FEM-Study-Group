{
  "nbformat": 4,
  "nbformat_minor": 0,
  "metadata": {
    "colab": {
      "name": "Ejercicios Probabilidad.ipynb",
      "provenance": [],
      "include_colab_link": true
    },
    "kernelspec": {
      "name": "python3",
      "display_name": "Python 3"
    }
  },
  "cells": [
    {
      "cell_type": "markdown",
      "metadata": {
        "id": "view-in-github",
        "colab_type": "text"
      },
      "source": [
        "<a href=\"https://colab.research.google.com/github/SharonCamacho/Data-Science-FEM-Study-Group/blob/master/Ejercicios_Probabilidad.ipynb\" target=\"_parent\"><img src=\"https://colab.research.google.com/assets/colab-badge.svg\" alt=\"Open In Colab\"/></a>"
      ]
    },
    {
      "cell_type": "markdown",
      "metadata": {
        "id": "EIYB8nQyy3bT",
        "colab_type": "text"
      },
      "source": [
        "In an English deck of cards there are 4 pints (hearts, spades, diamonds and clubs) and 13 cards per pint. That is, in total there are 52 cards. Suppose you choose two random cards. What is the probability that one of them is black since the other is also black?\n",
        "1.\t1/2\n",
        "2.\t25/52\n",
        "3.\t25/51\n",
        "4.\t26/51\n",
        "5.\tNone of above\n"
      ]
    },
    {
      "cell_type": "code",
      "metadata": {
        "id": "MkE8lMRpyoeW",
        "colab_type": "code",
        "colab": {
          "base_uri": "https://localhost:8080/",
          "height": 51
        },
        "outputId": "d2ad7923-e6ba-4c17-c6ca-87ae0a210ee8"
      },
      "source": [
        "#P(a) = Sacar unaa carta negra en el primer intento\n",
        "\n",
        "p_a = 26/52\n",
        "\n",
        "#P(b) = Sacar unaa carta negra en el segundo intento\n",
        "p_b = 25/51\n",
        "#P(b/a) = Probabilidad de sacar una carta negra dado que ya saqué una negra\n",
        "#P(b/a) = p(b) * p (a/b)\n",
        "p_b_a = ((p_b*(26/51))/(26/51))\n",
        "\n",
        "print('La respuesta es la 3:',\"\\n\", p_b_a)"
      ],
      "execution_count": 2,
      "outputs": [
        {
          "output_type": "stream",
          "text": [
            "La respuesta es la 3: \n",
            " 0.49019607843137253\n"
          ],
          "name": "stdout"
        }
      ]
    },
    {
      "cell_type": "markdown",
      "metadata": {
        "id": "fITxt8LtzKan",
        "colab_type": "text"
      },
      "source": [
        "The probability that a Titi monkey likes to eat peanuts is 40%, and the probability of consuming it regularly is 20%. In addition, studies have shown that, among the Titi monkeys that eat peanuts, the probability of dying before 5 years is 5%. What is the probability of dying before 5 years of 5%. What is the probability that a Titi monkey eats peanuts regularly and dies before age 5?\n",
        "1.\t0.1\n",
        "2.\t0.04\n",
        "3.\t0.02\n",
        "4.\t0.01\n"
      ]
    },
    {
      "cell_type": "code",
      "metadata": {
        "id": "PErvp-stzVQh",
        "colab_type": "code",
        "colab": {}
      },
      "source": [
        ""
      ],
      "execution_count": 0,
      "outputs": []
    },
    {
      "cell_type": "markdown",
      "metadata": {
        "id": "0tNirTa2zVtK",
        "colab_type": "text"
      },
      "source": [
        "If you throw a 6-sided side 3 times. X1, X2 and X3 denote the value of the first, second and third throw.\n",
        "What is P (X1 + X2 + X3 <= 5)\n",
        "1.\t10/36\n",
        "2.\t5/36\n",
        "3.\t10/216\n",
        "4.\t5/216\n"
      ]
    },
    {
      "cell_type": "code",
      "metadata": {
        "id": "QsFaeWAbz9Ye",
        "colab_type": "code",
        "colab": {
          "base_uri": "https://localhost:8080/",
          "height": 51
        },
        "outputId": "454ed791-f290-4d11-c40f-e34d02034b6f"
      },
      "source": [
        "# Total events\n",
        "\n",
        "total = 6 ** 3\n",
        "\n",
        "# Events that satisfied that X1 + X2 + X3 <= 5\n",
        "\n",
        "ok = 10\n",
        "\n",
        "ans = ok / total\n",
        "print('La respuesta es la 3:',\"\\n\", ans)"
      ],
      "execution_count": 3,
      "outputs": [
        {
          "output_type": "stream",
          "text": [
            "La respuesta es la 3: \n",
            " 0.046296296296296294\n"
          ],
          "name": "stdout"
        }
      ]
    },
    {
      "cell_type": "markdown",
      "metadata": {
        "id": "cAmJqNA1z9so",
        "colab_type": "text"
      },
      "source": [
        "In an English deck of cards there are 4 pints (hearts, spades, diamonds and tremolo) and 13 cards per pints. That is, in total there are 52 cards. Suppose you choose two random cards. What is the probability that one of them is black since the other is red?\n",
        "1.\t1/2\n",
        "2.\t25/52\n",
        "3.\t1/4\n",
        "4.\t26/51\n"
      ]
    },
    {
      "cell_type": "code",
      "metadata": {
        "id": "o24ghvSg0J-B",
        "colab_type": "code",
        "colab": {
          "base_uri": "https://localhost:8080/",
          "height": 51
        },
        "outputId": "a393a628-58ac-4a5b-9580-6d522498b64c"
      },
      "source": [
        "#P(a) = Sacar unaa carta negra en el primer intento\n",
        "\n",
        "p_a = 26/52\n",
        "\n",
        "#P(b) = Sacar unaa carta negra en el segundo intento\n",
        "p_b = 25/51\n",
        "#P(b/a) = Probabilidad de sacar una carta negra dado que ya saqué una negra\n",
        "#P(b/a) = p(b) * p (a/b)\n",
        "p_b_a = ((p_b*(26/51))/(26/51))\n",
        "\n",
        "print('La respuesta es la 3:',\"\\n\", p_b_a)"
      ],
      "execution_count": 4,
      "outputs": [
        {
          "output_type": "stream",
          "text": [
            "La respuesta es la 3: \n",
            " 0.49019607843137253\n"
          ],
          "name": "stdout"
        }
      ]
    },
    {
      "cell_type": "markdown",
      "metadata": {
        "id": "RtTbuiQv0KOZ",
        "colab_type": "text"
      },
      "source": [
        "Cosider a fair coin and fair die. The possible outcome toss is \"head\" or \"tail\", while the possible outcome for the die throw is 1,2,3,4,5 or 6. You toss the coin 4 times and throw the die 2 times.\n",
        "The number of possible outcomes for this experiment is________"
      ]
    },
    {
      "cell_type": "code",
      "metadata": {
        "id": "xls3j4xi0LbB",
        "colab_type": "code",
        "colab": {
          "base_uri": "https://localhost:8080/",
          "height": 51
        },
        "outputId": "14d34e04-a3af-4c04-a121-74f5e58e00e8"
      },
      "source": [
        "# _ _ _ _ _ _\n",
        "# Moneda - Dado\n",
        " ans = 2 * 2 * 2 * 2 * 6 * 6\n",
        " print('La respuesta es :',\"\\n\", ans)"
      ],
      "execution_count": 5,
      "outputs": [
        {
          "output_type": "stream",
          "text": [
            "La respuesta es : \n",
            " 576\n"
          ],
          "name": "stdout"
        }
      ]
    },
    {
      "cell_type": "markdown",
      "metadata": {
        "id": "c0h2tCEs0__3",
        "colab_type": "text"
      },
      "source": [
        "A dart is thrown at circular dashboard such that it will land randomly over the area of the dashboard. What is the probability that it lands closer to the center than to the edge? Assume the dart always reaches the dashboard.\n",
        "1.\t25%\n",
        "2.\t50%\n",
        "3.\t10%\n",
        "4.\t33%"
      ]
    },
    {
      "cell_type": "code",
      "metadata": {
        "id": "eYFiTSTl1ATV",
        "colab_type": "code",
        "colab": {
          "base_uri": "https://localhost:8080/",
          "height": 51
        },
        "outputId": "7cf36efb-deb5-4d81-fb4c-a5a1252c6dc0"
      },
      "source": [
        "import math\n",
        "# total = área de la circunferencia\n",
        "# total = pi * (r ** 2)\n",
        "\n",
        "# ok = la mitad del radio\n",
        "# ok = pi * ((r/2)**2)\n",
        "\n",
        "#ans = ok / total\n",
        "\n",
        "ans = (1/4)*100\n",
        "\n",
        "print('La respuesta es la 1 :',\"\\n\", ans)\n"
      ],
      "execution_count": 9,
      "outputs": [
        {
          "output_type": "stream",
          "text": [
            "La respuesta es la 1 : \n",
            " 25.0\n"
          ],
          "name": "stdout"
        }
      ]
    }
  ]
}