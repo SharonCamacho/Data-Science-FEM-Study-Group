{
  "nbformat": 4,
  "nbformat_minor": 0,
  "metadata": {
    "colab": {
      "name": "Probablidad.ipynb",
      "provenance": [],
      "collapsed_sections": [
        "sRG1VJQK-3LE",
        "FW8uH_yyGKJf"
      ],
      "authorship_tag": "ABX9TyOh5ot+XKXW+7+42hT2jbEY",
      "include_colab_link": true
    },
    "kernelspec": {
      "name": "python3",
      "display_name": "Python 3"
    }
  },
  "cells": [
    {
      "cell_type": "markdown",
      "metadata": {
        "id": "view-in-github",
        "colab_type": "text"
      },
      "source": [
        "<a href=\"https://colab.research.google.com/github/SharonCamacho/Data-Science-FEM-Study-Group/blob/master/Probablidad.ipynb\" target=\"_parent\"><img src=\"https://colab.research.google.com/assets/colab-badge.svg\" alt=\"Open In Colab\"/></a>"
      ]
    },
    {
      "cell_type": "markdown",
      "metadata": {
        "id": "tg21v6i97Gbi",
        "colab_type": "text"
      },
      "source": [
        "#**Probability**\n",
        "\n",
        "*Chance of an event occurring.*\n",
        "\n",
        "Probability shows how possible it is that an event occurs.\n",
        "It is a measure of the frequency of an event, that is, how much happens the event that satisfies a condition.\n",
        "\n",
        "*Number of ways of achieving a condition / the total number of possible outcomes*\n",
        "\n",
        "\n",
        "\n",
        "\n",
        "\n",
        "\n"
      ]
    },
    {
      "cell_type": "markdown",
      "metadata": {
        "id": "sRG1VJQK-3LE",
        "colab_type": "text"
      },
      "source": [
        "##### **Ex.**"
      ]
    },
    {
      "cell_type": "code",
      "metadata": {
        "id": "tnIBZeen-1Zq",
        "colab_type": "code",
        "colab": {
          "base_uri": "https://localhost:8080/",
          "height": 33
        },
        "outputId": "321129dd-21cc-4d1f-e385-36f4e50cacd3"
      },
      "source": [
        "#What is the probability for throwing a dice and getting even number?\n",
        "3/6"
      ],
      "execution_count": 2,
      "outputs": [
        {
          "output_type": "execute_result",
          "data": {
            "text/plain": [
              "0.5"
            ]
          },
          "metadata": {
            "tags": []
          },
          "execution_count": 2
        }
      ]
    },
    {
      "cell_type": "code",
      "metadata": {
        "id": "XQn69ZPv6lwl",
        "colab_type": "code",
        "colab": {
          "base_uri": "https://localhost:8080/",
          "height": 33
        },
        "outputId": "30e5dd2c-23ca-4016-932d-b607b5a7f6fb"
      },
      "source": [
        "#What is the probability of getting a head when flipping a coin?\n",
        "1/2"
      ],
      "execution_count": 3,
      "outputs": [
        {
          "output_type": "execute_result",
          "data": {
            "text/plain": [
              "0.5"
            ]
          },
          "metadata": {
            "tags": []
          },
          "execution_count": 3
        }
      ]
    },
    {
      "cell_type": "code",
      "metadata": {
        "id": "UtYAuiGyCwEx",
        "colab_type": "code",
        "colab": {
          "base_uri": "https://localhost:8080/",
          "height": 33
        },
        "outputId": "f430e7c7-47aa-46ed-e86c-31c0ce9ca52e"
      },
      "source": [
        "#What is the probability for throwing a dice and getting a 7?\n",
        "0/6"
      ],
      "execution_count": 4,
      "outputs": [
        {
          "output_type": "execute_result",
          "data": {
            "text/plain": [
              "0.0"
            ]
          },
          "metadata": {
            "tags": []
          },
          "execution_count": 4
        }
      ]
    },
    {
      "cell_type": "code",
      "metadata": {
        "id": "jibsPEKHC28y",
        "colab_type": "code",
        "colab": {
          "base_uri": "https://localhost:8080/",
          "height": 33
        },
        "outputId": "39a75faf-c186-4b60-be26-d191fe84c000"
      },
      "source": [
        "#What is the probability for throwing a dice and getting a 3  or 6?\n",
        "2/6"
      ],
      "execution_count": 6,
      "outputs": [
        {
          "output_type": "execute_result",
          "data": {
            "text/plain": [
              "0.3333333333333333"
            ]
          },
          "metadata": {
            "tags": []
          },
          "execution_count": 6
        }
      ]
    },
    {
      "cell_type": "code",
      "metadata": {
        "id": "SO0G6v37C9bQ",
        "colab_type": "code",
        "colab": {
          "base_uri": "https://localhost:8080/",
          "height": 33
        },
        "outputId": "2f13480f-3163-4dda-80de-ee3f02682953"
      },
      "source": [
        "#What is the probability for throwing a dice and getting a 3 and 6?\n",
        "0/6"
      ],
      "execution_count": 7,
      "outputs": [
        {
          "output_type": "execute_result",
          "data": {
            "text/plain": [
              "0.0"
            ]
          },
          "metadata": {
            "tags": []
          },
          "execution_count": 7
        }
      ]
    },
    {
      "cell_type": "markdown",
      "metadata": {
        "id": "71gnripSDypJ",
        "colab_type": "text"
      },
      "source": [
        "###Predictions\n",
        "\n",
        "**KAHOOT**\n",
        "![](https://)\n",
        "\n"
      ]
    },
    {
      "cell_type": "code",
      "metadata": {
        "id": "14YpK9SlFaie",
        "colab_type": "code",
        "colab": {
          "base_uri": "https://localhost:8080/",
          "height": 33
        },
        "outputId": "d0bf58a0-e423-45d1-978e-b5274a122995"
      },
      "source": [
        "#What is the probability of getting an elephant?\n",
        "#If I spin the wheel 1 time\n",
        "4/7"
      ],
      "execution_count": 9,
      "outputs": [
        {
          "output_type": "execute_result",
          "data": {
            "text/plain": [
              "0.5714285714285714"
            ]
          },
          "metadata": {
            "tags": []
          },
          "execution_count": 9
        }
      ]
    },
    {
      "cell_type": "code",
      "metadata": {
        "id": "ebru3wYsFnjT",
        "colab_type": "code",
        "colab": {
          "base_uri": "https://localhost:8080/",
          "height": 33
        },
        "outputId": "16e38b7a-1652-49e6-de1c-5b84488bf3e9"
      },
      "source": [
        "#Predict the number of times I get an elephant if I spin the wheel 210 times\n",
        "210 * (4/7)\n"
      ],
      "execution_count": 11,
      "outputs": [
        {
          "output_type": "execute_result",
          "data": {
            "text/plain": [
              "120.0"
            ]
          },
          "metadata": {
            "tags": []
          },
          "execution_count": 11
        }
      ]
    },
    {
      "cell_type": "markdown",
      "metadata": {
        "id": "FW8uH_yyGKJf",
        "colab_type": "text"
      },
      "source": [
        "###Which probability is greater?\n",
        "\n",
        "Throwing a dice and getting a number less or equal than 2 or a  number greater or equal than 3\n",
        "\n",
        "P( x<=2 )     vs     P( x>=3 )"
      ]
    },
    {
      "cell_type": "code",
      "metadata": {
        "id": "4-aTBzKGGGmR",
        "colab_type": "code",
        "colab": {
          "base_uri": "https://localhost:8080/",
          "height": 33
        },
        "outputId": "5cb82ee6-f2b2-4397-fd80-d3e27ca9efc7"
      },
      "source": [
        "#getting a number less than 2\n",
        "2/6"
      ],
      "execution_count": 13,
      "outputs": [
        {
          "output_type": "execute_result",
          "data": {
            "text/plain": [
              "0.3333333333333333"
            ]
          },
          "metadata": {
            "tags": []
          },
          "execution_count": 13
        }
      ]
    },
    {
      "cell_type": "code",
      "metadata": {
        "id": "b1Z2lbkGG_5V",
        "colab_type": "code",
        "colab": {
          "base_uri": "https://localhost:8080/",
          "height": 33
        },
        "outputId": "5b7886bc-66e9-471b-a70e-6a122911d3e7"
      },
      "source": [
        "#getting a number greater than 3\n",
        "4/6"
      ],
      "execution_count": 14,
      "outputs": [
        {
          "output_type": "execute_result",
          "data": {
            "text/plain": [
              "0.6666666666666666"
            ]
          },
          "metadata": {
            "tags": []
          },
          "execution_count": 14
        }
      ]
    },
    {
      "cell_type": "markdown",
      "metadata": {
        "id": "UOjva0HJHJ5L",
        "colab_type": "text"
      },
      "source": [
        "**DOUBLE**\n"
      ]
    },
    {
      "cell_type": "markdown",
      "metadata": {
        "id": "pXWU4YFlHKbC",
        "colab_type": "text"
      },
      "source": [
        "###** **Permutations & Combinations**\n",
        "\n",
        "There are two ways to sort or combine results of dependent events. \n",
        "\n",
        "- **Permutations** are groupings in which the order of objects matters. \n",
        "- **Combinations** are groupings in which the content matters but the order does not.\n",
        "\n",
        "\n",
        "*It helps a lot to use trees*"
      ]
    },
    {
      "cell_type": "markdown",
      "metadata": {
        "id": "EUmHuBRiYkf0",
        "colab_type": "text"
      },
      "source": [
        "**Permutations**"
      ]
    },
    {
      "cell_type": "code",
      "metadata": {
        "id": "2YM9AccPQBWd",
        "colab_type": "code",
        "colab": {
          "base_uri": "https://localhost:8080/",
          "height": 33
        },
        "outputId": "6f9858e0-bd3e-4ea8-f1b4-a69b596319ca"
      },
      "source": [
        "#If I go to a florist that has 4 types of flowers (Roses, tulip, sunflower, lilies)\n",
        "#and 3 colors of pots (brown, yellow, green). \n",
        "#How many combinations of flowers and pots can I go out with?\n",
        "\n",
        "3 * 4"
      ],
      "execution_count": 44,
      "outputs": [
        {
          "output_type": "execute_result",
          "data": {
            "text/plain": [
              "12"
            ]
          },
          "metadata": {
            "tags": []
          },
          "execution_count": 44
        }
      ]
    },
    {
      "cell_type": "code",
      "metadata": {
        "id": "SulwbfsmRZoi",
        "colab_type": "code",
        "colab": {}
      },
      "source": [
        "#If I have two engine options (4 cylinders and 6 cylinders) \n",
        "#and 4 color options (Red, Blue, Green, White) \n",
        "#What is the probability of having a white car with 6 cylinders?"
      ],
      "execution_count": 0,
      "outputs": []
    },
    {
      "cell_type": "code",
      "metadata": {
        "id": "7GXBXnc0UQab",
        "colab_type": "code",
        "colab": {
          "base_uri": "https://localhost:8080/",
          "height": 33
        },
        "outputId": "39635194-5fa9-4dfb-8f77-2f83b1332f16"
      },
      "source": [
        "#How many ways can I organize 5 people in 5 places?\n",
        "#Orden is important\n",
        "# A, B, C, D, E\n",
        "\n",
        "#Places\n",
        "#1 2 3 4 5\n",
        " 5*4*3*2*1\n",
        "\n",
        "#5!"
      ],
      "execution_count": 45,
      "outputs": [
        {
          "output_type": "execute_result",
          "data": {
            "text/plain": [
              "120"
            ]
          },
          "metadata": {
            "tags": []
          },
          "execution_count": 45
        }
      ]
    },
    {
      "cell_type": "markdown",
      "metadata": {
        "id": "eBVC75FzX9VN",
        "colab_type": "text"
      },
      "source": [
        "*Formula*\n",
        "\n",
        "P(n,k) = n! / (n-k)!\n",
        "\n",
        "- n = how many things I have\n",
        "- k = how many ways or places I have to sort or combine my things"
      ]
    },
    {
      "cell_type": "code",
      "metadata": {
        "id": "W-Z7DkSNWz1A",
        "colab_type": "code",
        "colab": {}
      },
      "source": [
        "def facto(n):\n",
        "  factorial = 1\n",
        "  if int(n) >= 1:\n",
        "    for i in range (1,int(n)+1):\n",
        "      factorial = factorial * i\n",
        "  return(int(factorial))"
      ],
      "execution_count": 0,
      "outputs": []
    },
    {
      "cell_type": "code",
      "metadata": {
        "id": "HlhAQbuvW_la",
        "colab_type": "code",
        "colab": {
          "base_uri": "https://localhost:8080/",
          "height": 33
        },
        "outputId": "2f5d9b53-c7b4-4678-cd6f-836c34aebf0f"
      },
      "source": [
        "facto(5)"
      ],
      "execution_count": 52,
      "outputs": [
        {
          "output_type": "stream",
          "text": [
            "120\n"
          ],
          "name": "stdout"
        }
      ]
    },
    {
      "cell_type": "code",
      "metadata": {
        "id": "f9ucNnxnXdUW",
        "colab_type": "code",
        "colab": {
          "base_uri": "https://localhost:8080/",
          "height": 33
        },
        "outputId": "ec65ee50-1ed7-4379-9da5-845b63a8fc64"
      },
      "source": [
        "#What if I only have 3 places?\n",
        "#How many ways can I organize 5 people in 3 places?\n",
        "#Orden is important\n",
        "facto(5)/facto((5-3))"
      ],
      "execution_count": 68,
      "outputs": [
        {
          "output_type": "execute_result",
          "data": {
            "text/plain": [
              "60.0"
            ]
          },
          "metadata": {
            "tags": []
          },
          "execution_count": 68
        }
      ]
    },
    {
      "cell_type": "code",
      "metadata": {
        "id": "Uw_BVorFXlxV",
        "colab_type": "code",
        "colab": {}
      },
      "source": [
        "#How many 3-letter words can I make? (The alphabet has 26 letters)"
      ],
      "execution_count": 0,
      "outputs": []
    },
    {
      "cell_type": "code",
      "metadata": {
        "id": "K4OofpWfa6O1",
        "colab_type": "code",
        "colab": {}
      },
      "source": [
        "#How many codes with 4 colors can I do without repeating them?"
      ],
      "execution_count": 0,
      "outputs": []
    },
    {
      "cell_type": "code",
      "metadata": {
        "id": "v7r6flVTbBOU",
        "colab_type": "code",
        "colab": {}
      },
      "source": [
        "#If I have a group of 9 people, \n",
        "#how many different ways can I choose the board of directors \n",
        "#(President - Vice President - Secretary)"
      ],
      "execution_count": 0,
      "outputs": []
    },
    {
      "cell_type": "markdown",
      "metadata": {
        "id": "z6zsHJ4bcxzl",
        "colab_type": "text"
      },
      "source": [
        "**Combinations**\n",
        "\n",
        "*Formula*\n",
        "\n",
        "- C(n,k) = P(n,k) / k!\n",
        "- C(n,k) = (n! / (n-k)!) / k!\n",
        "- **C(n,k) = n! / k! * (n-k)!**\n",
        "\n",
        "\n",
        "\n",
        "\n",
        "- n = how many things I have\n",
        "- k = how many ways or places I have to sort or combine my things"
      ]
    },
    {
      "cell_type": "markdown",
      "metadata": {
        "id": "EELC0u1SqngZ",
        "colab_type": "text"
      },
      "source": [
        "**Say Hello**"
      ]
    },
    {
      "cell_type": "code",
      "metadata": {
        "id": "ubnslp0Rct36",
        "colab_type": "code",
        "colab": {
          "base_uri": "https://localhost:8080/",
          "height": 33
        },
        "outputId": "e0b81799-6d9a-4654-9968-1dc531cb4fa5"
      },
      "source": [
        "#In how many combinations 4 people say hello to each others when order matters\n",
        "# A, B, C, D\n",
        "\n",
        "#Places\n",
        "#1 2 \n",
        " 4*3\n",
        "\n",
        "#5!"
      ],
      "execution_count": 74,
      "outputs": [
        {
          "output_type": "execute_result",
          "data": {
            "text/plain": [
              "12"
            ]
          },
          "metadata": {
            "tags": []
          },
          "execution_count": 74
        }
      ]
    },
    {
      "cell_type": "code",
      "metadata": {
        "id": "lv5CoRa8obY5",
        "colab_type": "code",
        "colab": {
          "base_uri": "https://localhost:8080/",
          "height": 33
        },
        "outputId": "9bce58be-c30e-4c6a-d4e0-c288b47825e9"
      },
      "source": [
        "#In how many combinations 4 people say hello to each others when order doesn't matter\n",
        "# total permutations / ways to sort 3 people\n",
        "facto(4)/(facto(2)*facto((4-2)))"
      ],
      "execution_count": 75,
      "outputs": [
        {
          "output_type": "execute_result",
          "data": {
            "text/plain": [
              "6.0"
            ]
          },
          "metadata": {
            "tags": []
          },
          "execution_count": 75
        }
      ]
    },
    {
      "cell_type": "markdown",
      "metadata": {
        "id": "PPsLaHtcLC_i",
        "colab_type": "text"
      },
      "source": [
        "\n",
        "Python provide direct methods to find permutations and combinations of a sequence. These methods are present in itertools package.\n",
        "\n"
      ]
    },
    {
      "cell_type": "code",
      "metadata": {
        "id": "NhnCTkCiILFW",
        "colab_type": "code",
        "colab": {}
      },
      "source": [
        "from itertools import permutations \n",
        "from itertools import combinations \n"
      ],
      "execution_count": 0,
      "outputs": []
    },
    {
      "cell_type": "code",
      "metadata": {
        "id": "kqdFsmbtKXtm",
        "colab_type": "code",
        "colab": {
          "base_uri": "https://localhost:8080/",
          "height": 214
        },
        "outputId": "a4e13a59-c047-46b4-ed5f-c9d2baaa3c79"
      },
      "source": [
        "perm2 = permutations('ABCD', 2)\n",
        "for i in list(perm2): \n",
        "  print(i)"
      ],
      "execution_count": 76,
      "outputs": [
        {
          "output_type": "stream",
          "text": [
            "('A', 'B')\n",
            "('A', 'C')\n",
            "('A', 'D')\n",
            "('B', 'A')\n",
            "('B', 'C')\n",
            "('B', 'D')\n",
            "('C', 'A')\n",
            "('C', 'B')\n",
            "('C', 'D')\n",
            "('D', 'A')\n",
            "('D', 'B')\n",
            "('D', 'C')\n"
          ],
          "name": "stdout"
        }
      ]
    },
    {
      "cell_type": "code",
      "metadata": {
        "id": "FErk-5q-MXX1",
        "colab_type": "code",
        "colab": {
          "base_uri": "https://localhost:8080/",
          "height": 115
        },
        "outputId": "c539867f-c1e0-42f5-ea94-bae0892f0458"
      },
      "source": [
        "comb = combinations('ABCD', 2)\n",
        "for i in list(comb):\n",
        "  print(i)"
      ],
      "execution_count": 77,
      "outputs": [
        {
          "output_type": "stream",
          "text": [
            "('A', 'B')\n",
            "('A', 'C')\n",
            "('A', 'D')\n",
            "('B', 'C')\n",
            "('B', 'D')\n",
            "('C', 'D')\n"
          ],
          "name": "stdout"
        }
      ]
    },
    {
      "cell_type": "code",
      "metadata": {
        "id": "7JGMfYKOrTeS",
        "colab_type": "code",
        "colab": {
          "base_uri": "https://localhost:8080/",
          "height": 33
        },
        "outputId": "64795c7c-880c-42cb-97d0-46684b185e82"
      },
      "source": [
        "# I have 36 cards, 4 groups and 9 cards for group\n",
        "# What is the probability to get the four 'ones' in one group?\n",
        "\n",
        "# . 1.How many options do I have?\n",
        "\n",
        "facto(36) / (facto(9)*facto((36-9)))\n",
        "\n",
        "#Permutación"
      ],
      "execution_count": 78,
      "outputs": [
        {
          "output_type": "execute_result",
          "data": {
            "text/plain": [
              "94143280.0"
            ]
          },
          "metadata": {
            "tags": []
          },
          "execution_count": 78
        }
      ]
    },
    {
      "cell_type": "code",
      "metadata": {
        "id": "lKrOCXVErUJJ",
        "colab_type": "code",
        "colab": {}
      },
      "source": [
        "#Continue on the board "
      ],
      "execution_count": 0,
      "outputs": []
    },
    {
      "cell_type": "markdown",
      "metadata": {
        "id": "soPmDdZYsRZH",
        "colab_type": "text"
      },
      "source": [
        "###**Independent events**\n",
        "\n",
        "They have no relationship between them -> Gambler's fallacy"
      ]
    },
    {
      "cell_type": "code",
      "metadata": {
        "id": "EABUDXp_soAw",
        "colab_type": "code",
        "colab": {
          "base_uri": "https://localhost:8080/",
          "height": 33
        },
        "outputId": "7ee1e053-dde1-4e33-eb73-c7e2bf735e05"
      },
      "source": [
        "#If you flip a coin twice,\n",
        "#what is the probability of having a face in both attempts.\n",
        "\n",
        "#P(c c) = P(c)*P(c)\n",
        "          0.5 * 0.5"
      ],
      "execution_count": 79,
      "outputs": [
        {
          "output_type": "execute_result",
          "data": {
            "text/plain": [
              "0.25"
            ]
          },
          "metadata": {
            "tags": []
          },
          "execution_count": 79
        }
      ]
    },
    {
      "cell_type": "code",
      "metadata": {
        "id": "gD0ScPHYs_x_",
        "colab_type": "code",
        "colab": {
          "base_uri": "https://localhost:8080/",
          "height": 33
        },
        "outputId": "57a63f72-19c9-4378-df4a-80bc551cb997"
      },
      "source": [
        "#If you flip a coin three times, \n",
        "#what is the probability of having a seal, face and seal (in this order).\n",
        "\n",
        "#P(s c s) = P(s) * P(c) * P(s)\n",
        "             0.5 * 0.5 * 0.5"
      ],
      "execution_count": 80,
      "outputs": [
        {
          "output_type": "execute_result",
          "data": {
            "text/plain": [
              "0.125"
            ]
          },
          "metadata": {
            "tags": []
          },
          "execution_count": 80
        }
      ]
    },
    {
      "cell_type": "code",
      "metadata": {
        "id": "hGdcZeKLtVpi",
        "colab_type": "code",
        "colab": {
          "base_uri": "https://localhost:8080/",
          "height": 115
        },
        "outputId": "a5086667-6846-4c6d-fe5a-680f7c6a2cea"
      },
      "source": [
        "perm3 = permutations('CSC', 3)\n",
        "\n",
        "for i in list(perm3): \n",
        "  print(i)\n",
        "\n",
        "#Falta SSS"
      ],
      "execution_count": 83,
      "outputs": [
        {
          "output_type": "stream",
          "text": [
            "('C', 'S', 'C')\n",
            "('C', 'C', 'S')\n",
            "('S', 'C', 'C')\n",
            "('S', 'C', 'C')\n",
            "('C', 'C', 'S')\n",
            "('C', 'S', 'C')\n"
          ],
          "name": "stdout"
        }
      ]
    },
    {
      "cell_type": "code",
      "metadata": {
        "id": "eNQ3xp1ytzf-",
        "colab_type": "code",
        "colab": {}
      },
      "source": [
        "#If I have an test, \n",
        "#the first question has 4 options and the second 3, all only answer, \n",
        "#what is the probability of win the test if I answer randomly"
      ],
      "execution_count": 0,
      "outputs": []
    },
    {
      "cell_type": "code",
      "metadata": {
        "id": "fG9wfMT7vJFj",
        "colab_type": "code",
        "colab": {}
      },
      "source": [
        "#I win if I take 2 green balls out of the bag. \n",
        "#If I have 3 green and 2 red balls, \n",
        "#what is the probability of winning, if I do not put the one I get back in the bag"
      ],
      "execution_count": 0,
      "outputs": []
    },
    {
      "cell_type": "markdown",
      "metadata": {
        "id": "CMKu01eRvqxz",
        "colab_type": "text"
      },
      "source": [
        "###**Dependent events**\n",
        "\n",
        "They have relationship between them"
      ]
    },
    {
      "cell_type": "code",
      "metadata": {
        "id": "TIA68pnovyy-",
        "colab_type": "code",
        "colab": {}
      },
      "source": [
        "#I have 8 coins, 3 trick and 5 normal coins\n",
        "#The probability of get a face in a trick coin is 60%\n",
        "#If I choose one and flip it twice\n",
        "#What is the probability of get face in the two flips\n",
        "\n",
        "# .1. P(cc|normal)"
      ],
      "execution_count": 0,
      "outputs": []
    },
    {
      "cell_type": "code",
      "metadata": {
        "id": "WgLJ7ofoxLhI",
        "colab_type": "code",
        "colab": {}
      },
      "source": [
        "# 2.P(cc|trick)"
      ],
      "execution_count": 0,
      "outputs": []
    },
    {
      "cell_type": "code",
      "metadata": {
        "id": "oOCPz2kuxPLQ",
        "colab_type": "code",
        "colab": {}
      },
      "source": [
        "# PT = P(cc|normal)+P(cc|trick)"
      ],
      "execution_count": 0,
      "outputs": []
    },
    {
      "cell_type": "markdown",
      "metadata": {
        "id": "u1lR8wXMxrn4",
        "colab_type": "text"
      },
      "source": [
        "**Venn Diagram**\n",
        "\n",
        "on board"
      ]
    },
    {
      "cell_type": "code",
      "metadata": {
        "id": "czZvlC8CxUfM",
        "colab_type": "code",
        "colab": {}
      },
      "source": [
        "#4 groups of cards and 13 cards for group\n",
        "# 1 2 3 4 5 6 7 8 9 10 J Q K\n",
        "# 52 cards in total\n",
        "\n",
        "# P(J)"
      ],
      "execution_count": 0,
      "outputs": []
    },
    {
      "cell_type": "code",
      "metadata": {
        "id": "CVqUqp-rxmUu",
        "colab_type": "code",
        "colab": {}
      },
      "source": [
        "# P( J y corazón)\n",
        "#Intersection"
      ],
      "execution_count": 0,
      "outputs": []
    },
    {
      "cell_type": "code",
      "metadata": {
        "id": "o5YqNqjax9Nr",
        "colab_type": "code",
        "colab": {}
      },
      "source": [
        "# P( J o corazón) = P (J) + P(corazón) - P (Jcorazón) // Se le resta para no contar dos veces\n",
        "#out of intersection"
      ],
      "execution_count": 0,
      "outputs": []
    },
    {
      "cell_type": "code",
      "metadata": {
        "id": "YUXqYc-CyDhK",
        "colab_type": "code",
        "colab": {}
      },
      "source": [
        "# I Have 8 green cubes, 9 green balls, 5 yellow cubes and 7 yellow balls\n",
        "# P(cube)"
      ],
      "execution_count": 0,
      "outputs": []
    },
    {
      "cell_type": "code",
      "metadata": {
        "id": "TS6kMbIDySe9",
        "colab_type": "code",
        "colab": {}
      },
      "source": [
        "# P (cube yellow)"
      ],
      "execution_count": 0,
      "outputs": []
    }
  ]
}